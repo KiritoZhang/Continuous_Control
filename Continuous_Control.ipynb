{
 "cells": [
  {
   "cell_type": "markdown",
   "metadata": {},
   "source": [
    "# Continuous Control\n",
    "\n",
    "---\n",
    "\n",
    "You are welcome to use this coding environment to train your agent for the project.  Follow the instructions below to get started!\n",
    "\n",
    "### 1. Start the Environment\n",
    "\n",
    "Run the next code cell to install a few packages.  This line will take a few minutes to run!"
   ]
  },
  {
   "cell_type": "code",
   "execution_count": 1,
   "metadata": {},
   "outputs": [
    {
     "name": "stdout",
     "output_type": "stream",
     "text": [
      "\u001b[31mtensorflow 1.7.1 has requirement numpy>=1.13.3, but you'll have numpy 1.12.1 which is incompatible.\u001b[0m\r\n",
      "\u001b[31mipython 6.5.0 has requirement prompt-toolkit<2.0.0,>=1.0.15, but you'll have prompt-toolkit 3.0.3 which is incompatible.\u001b[0m\r\n"
     ]
    }
   ],
   "source": [
    "!pip -q install ./python"
   ]
  },
  {
   "cell_type": "markdown",
   "metadata": {},
   "source": [
    "The environments corresponding to both versions of the environment are already saved in the Workspace and can be accessed at the file paths provided below.  \n",
    "\n",
    "Please select one of the two options below for loading the environment."
   ]
  },
  {
   "cell_type": "code",
   "execution_count": 2,
   "metadata": {
    "scrolled": true
   },
   "outputs": [
    {
     "name": "stderr",
     "output_type": "stream",
     "text": [
      "INFO:unityagents:\n",
      "'Academy' started successfully!\n",
      "Unity Academy name: Academy\n",
      "        Number of Brains: 1\n",
      "        Number of External Brains : 1\n",
      "        Lesson number : 0\n",
      "        Reset Parameters :\n",
      "\t\tgoal_speed -> 1.0\n",
      "\t\tgoal_size -> 5.0\n",
      "Unity brain name: ReacherBrain\n",
      "        Number of Visual Observations (per agent): 0\n",
      "        Vector Observation space type: continuous\n",
      "        Vector Observation space size (per agent): 33\n",
      "        Number of stacked Vector Observation: 1\n",
      "        Vector Action space type: continuous\n",
      "        Vector Action space size (per agent): 4\n",
      "        Vector Action descriptions: , , , \n"
     ]
    }
   ],
   "source": [
    "from unityagents import UnityEnvironment\n",
    "import numpy as np\n",
    "\n",
    "# select this option to load version 1 (with a single agent) of the environment\n",
    "env = UnityEnvironment(file_name='/data/Reacher_One_Linux_NoVis/Reacher_One_Linux_NoVis.x86_64')\n",
    "\n",
    "# select this option to load version 2 (with 20 agents) of the environment\n",
    "# env = UnityEnvironment(file_name='/data/Reacher_Linux_NoVis/Reacher.x86_64')"
   ]
  },
  {
   "cell_type": "markdown",
   "metadata": {},
   "source": [
    "Environments contain **_brains_** which are responsible for deciding the actions of their associated agents. Here we check for the first brain available, and set it as the default brain we will be controlling from Python."
   ]
  },
  {
   "cell_type": "code",
   "execution_count": 3,
   "metadata": {},
   "outputs": [],
   "source": [
    "# get the default brain\n",
    "brain_name = env.brain_names[0]\n",
    "brain = env.brains[brain_name]"
   ]
  },
  {
   "cell_type": "markdown",
   "metadata": {},
   "source": [
    "### 2. Examine the State and Action Spaces\n",
    "\n",
    "Run the code cell below to print some information about the environment."
   ]
  },
  {
   "cell_type": "code",
   "execution_count": 4,
   "metadata": {},
   "outputs": [
    {
     "name": "stdout",
     "output_type": "stream",
     "text": [
      "Number of agents: 1\n",
      "Size of each action: 4\n",
      "There are 1 agents. Each observes a state with length: 33\n",
      "The state for the first agent looks like: [  0.00000000e+00  -4.00000000e+00   0.00000000e+00   1.00000000e+00\n",
      "  -0.00000000e+00  -0.00000000e+00  -4.37113883e-08   0.00000000e+00\n",
      "   0.00000000e+00   0.00000000e+00   0.00000000e+00   0.00000000e+00\n",
      "   0.00000000e+00   0.00000000e+00  -1.00000000e+01   0.00000000e+00\n",
      "   1.00000000e+00  -0.00000000e+00  -0.00000000e+00  -4.37113883e-08\n",
      "   0.00000000e+00   0.00000000e+00   0.00000000e+00   0.00000000e+00\n",
      "   0.00000000e+00   0.00000000e+00   5.75471878e+00  -1.00000000e+00\n",
      "   5.55726671e+00   0.00000000e+00   1.00000000e+00   0.00000000e+00\n",
      "  -1.68164849e-01]\n"
     ]
    }
   ],
   "source": [
    "# reset the environment\n",
    "env_info = env.reset(train_mode=True)[brain_name]\n",
    "\n",
    "# number of agents\n",
    "num_agents = len(env_info.agents)\n",
    "print('Number of agents:', num_agents)\n",
    "\n",
    "# size of each action\n",
    "action_size = brain.vector_action_space_size\n",
    "print('Size of each action:', action_size)\n",
    "\n",
    "# examine the state space \n",
    "states = env_info.vector_observations\n",
    "state_size = states.shape[1]\n",
    "print('There are {} agents. Each observes a state with length: {}'.format(states.shape[0], state_size))\n",
    "print('The state for the first agent looks like:', states[0])"
   ]
  },
  {
   "cell_type": "markdown",
   "metadata": {},
   "source": [
    "### 3. Take Random Actions in the Environment\n",
    "\n",
    "In the next code cell, you will learn how to use the Python API to control the agent and receive feedback from the environment.\n",
    "\n",
    "Note that **in this coding environment, you will not be able to watch the agents while they are training**, and you should set `train_mode=True` to restart the environment."
   ]
  },
  {
   "cell_type": "code",
   "execution_count": 5,
   "metadata": {},
   "outputs": [
    {
     "name": "stdout",
     "output_type": "stream",
     "text": [
      "Total score (averaged over agents) this episode: 0.5199999883770943\n"
     ]
    }
   ],
   "source": [
    "env_info = env.reset(train_mode=True)[brain_name]      # reset the environment    \n",
    "states = env_info.vector_observations                  # get the current state (for each agent)\n",
    "scores = np.zeros(num_agents)                          # initialize the score (for each agent)\n",
    "while True:\n",
    "    actions = np.random.randn(num_agents, action_size) # select an action (for each agent)\n",
    "    actions = np.clip(actions, -1, 1)                  # all actions between -1 and 1\n",
    "    env_info = env.step(actions)[brain_name]           # send all actions to tne environment\n",
    "    next_states = env_info.vector_observations         # get next state (for each agent)\n",
    "    rewards = env_info.rewards                         # get reward (for each agent)\n",
    "    dones = env_info.local_done                        # see if episode finished\n",
    "    scores += env_info.rewards                         # update the score (for each agent)\n",
    "    states = next_states                               # roll over states to next time step\n",
    "    if np.any(dones):                                  # exit loop if episode finished\n",
    "        break\n",
    "print('Total score (averaged over agents) this episode: {}'.format(np.mean(scores)))"
   ]
  },
  {
   "cell_type": "markdown",
   "metadata": {},
   "source": [
    "When finished, you can close the environment."
   ]
  },
  {
   "cell_type": "code",
   "execution_count": 6,
   "metadata": {},
   "outputs": [],
   "source": [
    "#env.close()"
   ]
  },
  {
   "cell_type": "markdown",
   "metadata": {},
   "source": [
    "### 4. It's Your Turn!\n",
    "\n",
    "Now it's your turn to train your own agent to solve the environment!  A few **important notes**:\n",
    "- When training the environment, set `train_mode=True`, so that the line for resetting the environment looks like the following:\n",
    "```python\n",
    "env_info = env.reset(train_mode=True)[brain_name]\n",
    "```\n",
    "- To structure your work, you're welcome to work directly in this Jupyter notebook, or you might like to start over with a new file!  You can see the list of files in the workspace by clicking on **_Jupyter_** in the top left corner of the notebook.\n",
    "- In this coding environment, you will not be able to watch the agents while they are training.  However, **_after training the agents_**, you can download the saved model weights to watch the agents on your own machine! "
   ]
  },
  {
   "cell_type": "code",
   "execution_count": 7,
   "metadata": {},
   "outputs": [],
   "source": [
    "import copy\n",
    "import time\n",
    "import random\n",
    "import torch\n",
    "import torch.nn as nn\n",
    "from torch.optim import Adam\n",
    "import torch.nn.functional as F\n",
    "\n",
    "\n",
    "import matplotlib.pyplot as plt\n",
    "from collections import namedtuple, deque\n",
    "#from ddpg_agent import Agent\n",
    "#from torchsummary import summary\n",
    "%matplotlib inline\n",
    "#plt.ion()"
   ]
  },
  {
   "cell_type": "code",
   "execution_count": 8,
   "metadata": {},
   "outputs": [],
   "source": [
    "device = torch.device(\"cuda\" if torch.cuda.is_available() else \"cpu\")\n",
    "\n",
    "EXPERIENCE_POOL_SIZE = 100000 # define the experience pool size\n",
    "BATCH_SIZE = 128 # minibatch size\n",
    "LR_ACTOR = 0.0001 # actor network learning rate\n",
    "LR_CRITIC = 0.0001 # critic network learning rate\n",
    "WEIGHT_DECAY = 0 # L2 weight decay\n",
    "LEARN_EVERY = 20 # learning interval\n",
    "GAMMA = 0.99 # discount factor\n",
    "TAU = 0.001 # soft update parameters\n",
    "OU_SIGMA = 0.2 # Ornstein-Uhlenbeck noise parameter, volatility\n",
    "OU_THETA = 0.15 # Ornstein-Uhlenbeck noise parameter, mean recovery speed\n",
    "EPS_START = 1.0 # Initial value of ε during noise attenuation\n",
    "EPS_DECAY = 0.00003 #to decay exploration as it learns\n",
    "EPS_FINAL = 0.05 # final value of ε after attenuation\n",
    "GOAL_SCORE = 30 # goal score\n",
    "WINDOW_LENGTH = 100 # limited number of actions\n",
    "PRINT_EVERY = 10 # print the score every tenth time\n",
    "ADD_NOISE = True # add noise"
   ]
  },
  {
   "cell_type": "code",
   "execution_count": 9,
   "metadata": {},
   "outputs": [],
   "source": [
    "### Construction of neural network ###\n",
    "def hidden_init(layer):\n",
    "    x = layer.weight.data.size()[0]\n",
    "    lim = 1. / np.sqrt(x)\n",
    "    return (-lim, lim)\n",
    "\n",
    "class Network(nn.Module): \n",
    "    def __init__(self,input_dim,output_dim,seed=0,fc1_units=256,fc2_units=128,fc3_units=128,actor=False):\n",
    "        super(Network, self).__init__()\n",
    "        self.actor = actor\n",
    "        self.seed = torch.manual_seed(seed)\n",
    "        self.fc1 = nn.Linear(input_dim, fc1_units)\n",
    "        if self.actor:  \n",
    "            self.fc2 = nn.Linear(fc1_units, fc2_units)\n",
    "            self.fc3 = nn.Linear(fc2_units, fc3_units)\n",
    "            self.fc4 = nn.Linear(fc3_units, output_dim)\n",
    "        else:\n",
    "            self.fc2 = nn.Linear(fc1_units+action_size, fc2_units)\n",
    "            self.fc3 = nn.Linear(fc2_units, fc3_units)\n",
    "            self.fc4 = nn.Linear(fc3_units, 1)\n",
    "        self.reset_parameters()\n",
    "        \n",
    "    def reset_parameters(self):\n",
    "        self.fc1.weight.data.uniform_(*hidden_init(self.fc1))\n",
    "        self.fc2.weight.data.uniform_(*hidden_init(self.fc2))\n",
    "        self.fc3.weight.data.uniform_(*hidden_init(self.fc3))\n",
    "        self.fc4.weight.data.uniform_(-3e-3, 3e-3)\n",
    "    def forward(self, state, action):\n",
    "        if self.actor:  \n",
    "            h1 = F.relu(self.fc1(state))\n",
    "            h2 = F.relu(self.fc2(h1))\n",
    "            h3 = F.relu(self.fc3(h2))\n",
    "            h4 = torch.tanh(self.fc4(h3))\n",
    "            return h4\n",
    "        else:  \n",
    "            h1 = F.relu(self.fc1(state))\n",
    "            h2 = torch.cat((h1, action), dim=1)\n",
    "            h3 = F.relu(self.fc2(h2))\n",
    "            h4 = F.relu(self.fc3(h3))\n",
    "            return self.fc4(h4)"
   ]
  },
  {
   "cell_type": "code",
   "execution_count": 10,
   "metadata": {},
   "outputs": [],
   "source": [
    "class Agent():\n",
    "    \n",
    "    def __init__(self, state_size, action_size, n_agents=1, seed=0):\n",
    "        self.timesteps = 0  \n",
    "        self.state_size = state_size\n",
    "        self.action_size = action_size\n",
    "        self.seed = np.random.seed(seed)\n",
    "        self.n_agents = n_agents\n",
    "        # Actor Neural network building\n",
    "        self.actor = Network(state_size, action_size, seed, actor=True).to(device)\n",
    "        self.actor_target = Network(state_size, action_size, seed, actor=True).to(device)\n",
    "        # Critic Neural network building\n",
    "        self.critic = Network(state_size, action_size, seed).to(device)\n",
    "        self.critic_target = Network(state_size, action_size, seed).to(device)\n",
    "        # Optimizer definition\n",
    "        self.actor_optimizer = Adam(self.actor.parameters(), lr=LR_ACTOR)\n",
    "        self.critic_optimizer = Adam(self.critic.parameters(), lr=LR_CRITIC, weight_decay=WEIGHT_DECAY)\n",
    "        # Make sure target is initialized with the same weight as the source\n",
    "        self.hard_copy_weights(self.actor_target, self.actor)\n",
    "        self.hard_copy_weights(self.critic_target, self.critic)\n",
    "        # epsilon attenuation\n",
    "        self.eps = EPS_START\n",
    "        self.eps_decay = EPS_DECAY\n",
    "        # Motion noise\n",
    "        self.noise = OUNoise(action_size, seed)\n",
    "        # Experience Replay\n",
    "        self.memory = Experience_Replay(action_size, EXPERIENCE_POOL_SIZE, BATCH_SIZE, seed)\n",
    "        \n",
    "    def step(self, states, actions, rewards, next_states, dones):\n",
    "        self.timesteps += 1\n",
    "        for i in range(self.n_agents):# Save experience\n",
    "            self.memory.add(states[i], actions[i], rewards[i], next_states[i], dones[i])\n",
    "        # Start learning the experience pool data when there are enough samples\n",
    "        if (len(self.memory) > BATCH_SIZE) and (self.timesteps % 20 == 0):\n",
    "            for _ in range(10):\n",
    "                experiences = self.memory.sample()\n",
    "                self.learn(experiences, GAMMA)\n",
    "                \n",
    "    # Executing the current policy outputs the action\n",
    "    def act(self, states, add_noise=True):\n",
    "        states = torch.from_numpy(states).float().to(device)\n",
    "        self.actor.eval()\n",
    "        # Organize state action pairs and pass them to the actor network to output the next action\n",
    "        with torch.no_grad():\n",
    "            actions = self.actor(states,1).cpu().data.numpy()\n",
    "        self.actor.train()\n",
    "        if add_noise and (np.random.random() < self.eps):\n",
    "            actions += [self.noise.sample() for _ in range(self.n_agents)]\n",
    "            #update the exploration parameter\n",
    "            self.eps -= self.eps_decay\n",
    "            if self.eps < EPS_FINAL:\n",
    "                self.eps = EPS_FINAL\n",
    "        return np.clip(actions, -1, 1)\n",
    "    \n",
    "    def reset(self):\n",
    "        self.noise.reset()\n",
    "    \n",
    "    def learn(self, experiences, gamma):\n",
    "        states, actions, rewards, next_states, dones = experiences\n",
    "        ###  critic network parameter update   ###\n",
    "        actions_next = self.actor_target(next_states,actions)\n",
    "        Q_targets_next = self.critic_target(next_states, actions_next)\n",
    "        # Compute Q targets for current states \n",
    "        Q_targets = rewards + (gamma * Q_targets_next * (1 - dones))\n",
    "        # Calculate critic network loss\n",
    "        Q_expected = self.critic(states, actions)\n",
    "        critic_loss = F.mse_loss(Q_expected, Q_targets)\n",
    "        # Minimize the loss\n",
    "        self.critic_optimizer.zero_grad()\n",
    "        critic_loss.backward()\n",
    "        self.critic_optimizer.step()\n",
    "        ###  actor network parameter update  ###\n",
    "        actions_pred = self.actor(states,actions)\n",
    "        actor_loss = -self.critic(states, actions_pred).mean()\n",
    "        # Minimize the loss\n",
    "        self.actor_optimizer.zero_grad()\n",
    "        actor_loss.backward()\n",
    "        self.actor_optimizer.step()\n",
    "        ###  Soft update ###\n",
    "        self.soft_update(self.critic, self.critic_target, TAU)\n",
    "        self.soft_update(self.actor, self.actor_target, TAU)\n",
    "        \n",
    "    def soft_update(self, local_model, target_model, tau):\n",
    "        for target_param, local_param in zip(target_model.parameters(), local_model.parameters()):\n",
    "            target_param.data.copy_(tau*local_param.data + (1.0-tau)*target_param.data)\n",
    "    def hard_copy_weights(self, target, source):\n",
    "        for target_param, param in zip(target.parameters(), source.parameters()):\n",
    "            target_param.data.copy_(param.data) \n",
    "    def device(self):\n",
    "        return device\n",
    "    \n",
    "### OU Noise function ###                \n",
    "class OUNoise:\n",
    "    def __init__(self, size, seed, mu=0., theta=0.15, sigma=0.2):\n",
    "        self.mu = mu * np.ones(size)\n",
    "        self.theta = theta\n",
    "        self.sigma = sigma\n",
    "        self.seed = np.random.seed(seed)\n",
    "        random.seed(seed)\n",
    "        self.reset()\n",
    "    def reset(self):\n",
    "        self.state = copy.copy(self.mu)\n",
    "    def sample(self):\n",
    "        x = self.state\n",
    "        dx = self.theta * (self.mu - x) + self.sigma * np.array([np.random.random() for i in range(len(x))])\n",
    "        self.state = x + dx\n",
    "        return self.state\n",
    "\n",
    "### Experience Replay function ###    \n",
    "class Experience_Replay:\n",
    "    def __init__(self, action_size, EXPERIENCE_POOL_SIZE, batch_size, seed):\n",
    "        self.action_size = action_size\n",
    "        self.memory = deque(maxlen=EXPERIENCE_POOL_SIZE)  # internal memory \n",
    "        self.batch_size = batch_size\n",
    "        self.experience = namedtuple(\"Experience\", field_names=[\"state\", \"action\", \"reward\", \"next_state\", \"done\"])\n",
    "        self.seed = np.random.seed(seed)\n",
    "        random.seed(seed)\n",
    "    def add(self, state, action, reward, next_state, done):# Add sample\n",
    "        e = self.experience(state, action, reward, next_state, done)\n",
    "        self.memory.append(e)\n",
    "    def sample(self):            # Random sampling\n",
    "        experiences = random.sample(self.memory, k=self.batch_size)\n",
    "        states = torch.from_numpy(np.vstack([e.state for e in experiences if e is not None])).float().to(device)\n",
    "        actions = torch.from_numpy(np.vstack([e.action for e in experiences if e is not None])).float().to(device)\n",
    "        rewards = torch.from_numpy(np.vstack([e.reward for e in experiences if e is not None])).float().to(device)\n",
    "        next_states = torch.from_numpy(np.vstack([e.next_state for e in experiences if e is not None])).float().to(device)\n",
    "        dones = torch.from_numpy(np.vstack([e.done for e in experiences if e is not None]).astype(np.uint8)).float().to(device)\n",
    "        return (states, actions, rewards, next_states, dones)\n",
    "    def __len__(self):\n",
    "        return len(self.memory)"
   ]
  },
  {
   "cell_type": "code",
   "execution_count": 11,
   "metadata": {
    "scrolled": true
   },
   "outputs": [
    {
     "name": "stdout",
     "output_type": "stream",
     "text": [
      "Episode: 10\tAverage Score: 0.34\tCurrent Score: 0.72\n",
      "Episode: 20\tAverage Score: 0.50\tCurrent Score: 0.28\n",
      "Episode: 30\tAverage Score: 0.68\tCurrent Score: 0.06\n",
      "Episode: 40\tAverage Score: 1.13\tCurrent Score: 8.54\n",
      "Episode: 50\tAverage Score: 1.58\tCurrent Score: 4.58\n",
      "Episode: 60\tAverage Score: 2.11\tCurrent Score: 4.07\n",
      "Episode: 70\tAverage Score: 2.51\tCurrent Score: 4.692\n",
      "Episode: 80\tAverage Score: 2.86\tCurrent Score: 8.03\n",
      "Episode: 90\tAverage Score: 3.46\tCurrent Score: 7.658\n",
      "Episode: 100\tAverage Score: 4.02\tCurrent Score: 14.94\n",
      "Episode: 110\tAverage Score: 4.82\tCurrent Score: 14.25\n",
      "Episode: 120\tAverage Score: 5.77\tCurrent Score: 11.94\n",
      "Episode: 130\tAverage Score: 7.08\tCurrent Score: 11.59\n",
      "Episode: 140\tAverage Score: 8.27\tCurrent Score: 15.34\n",
      "Episode: 150\tAverage Score: 9.57\tCurrent Score: 18.12\n",
      "Episode: 160\tAverage Score: 10.64\tCurrent Score: 18.32\n",
      "Episode: 170\tAverage Score: 11.79\tCurrent Score: 17.79\n",
      "Episode: 180\tAverage Score: 12.95\tCurrent Score: 13.24\n",
      "Episode: 190\tAverage Score: 14.08\tCurrent Score: 24.91\n",
      "Episode: 200\tAverage Score: 15.41\tCurrent Score: 23.12\n",
      "Episode: 210\tAverage Score: 16.59\tCurrent Score: 21.90\n",
      "Episode: 220\tAverage Score: 18.27\tCurrent Score: 35.14\n",
      "Episode: 230\tAverage Score: 19.17\tCurrent Score: 27.06\n",
      "Episode: 240\tAverage Score: 20.21\tCurrent Score: 16.03\n",
      "Episode: 250\tAverage Score: 21.93\tCurrent Score: 33.62\n",
      "Episode: 260\tAverage Score: 23.02\tCurrent Score: 33.69\n",
      "Episode: 270\tAverage Score: 24.64\tCurrent Score: 25.17\n",
      "Episode: 280\tAverage Score: 25.96\tCurrent Score: 17.42\n",
      "Episode: 290\tAverage Score: 26.95\tCurrent Score: 36.55\n",
      "Episode: 300\tAverage Score: 28.03\tCurrent Score: 35.88\n",
      "Episode: 310\tAverage Score: 29.53\tCurrent Score: 36.08\n",
      "Episode: 317\tAverage Score: 30.03\tCurrent Score: 37.10\n",
      "Environment solved in 317 episodes!\tAverage Score: 30.03\n"
     ]
    }
   ],
   "source": [
    "agent = Agent(state_size=state_size, action_size=action_size, seed=42)\n",
    "env_info = env.reset(train_mode=True)[brain_name] \n",
    "n_episodes=1000\n",
    "max_t=1000000\n",
    "score_target=GOAL_SCORE\n",
    "scores_window = deque(maxlen=WINDOW_LENGTH) \n",
    "scores_all = []        \n",
    "best_average_score = -np.inf\n",
    "### Start loop learning ###\n",
    "for i_episode in range(1, n_episodes+1):\n",
    "    env_info = env.reset(train_mode=True)[brain_name] # Reset environment\n",
    "    states = env_info.vector_observations        # Get states\n",
    "    agent.reset()\n",
    "    scores = np.zeros(num_agents) \n",
    "    for t in range(max_t):\n",
    "        actions = agent.act(states,ADD_NOISE)                # Select proxy actions and combine them\n",
    "        env_info = env.step(actions)[brain_name]             # Output two actions to the environment together\n",
    "        next_states = env_info.vector_observations           # Output next state\n",
    "        rewards = env_info.rewards                           # Get reward\n",
    "        dones = env_info.local_done                          # See if the plot is over\n",
    "        agent.step(states, actions, rewards, next_states, dones)# Agent learning\n",
    "        scores += np.array(rewards)                          # Update record score\n",
    "        states = next_states                                 # Update status characteristics\n",
    "        if np.any(dones):\n",
    "            break\n",
    "    # Record scores for easy mapping\n",
    "    ep_score = np.mean(scores) \n",
    "    scores_window.append(ep_score)\n",
    "    scores_all.append(ep_score)\n",
    "    average_score = np.mean(scores_window)\n",
    "    # Determine if environmental issues are resolved and save the model\n",
    "    print('\\rEpisode: {}\\tAverage Score: {:.2f}\\tCurrent Score: {:.2f}'.format(i_episode, average_score, ep_score), end=\"\")\n",
    "    if i_episode % PRINT_EVERY == 0:\n",
    "        print('\\rEpisode: {}\\tAverage Score: {:.2f}\\tCurrent Score: {:.2f}'.format(i_episode, average_score, ep_score))\n",
    "    if average_score >= score_target:\n",
    "        print('\\nEnvironment solved in {} episodes!\\tAverage Score: {:.2f}'.format(i_episode, average_score, ep_score))\n",
    "        torch.save(agent.actor.state_dict(), 'actor_weight.pth')\n",
    "        torch.save(agent.critic.state_dict(), 'critic_weight.pth')\n",
    "        break"
   ]
  },
  {
   "cell_type": "code",
   "execution_count": 18,
   "metadata": {},
   "outputs": [
    {
     "data": {
      "image/png": "[encoded data removed]",
      "text/plain": [
       "<matplotlib.figure.Figure at 0x7f799e0fef28>"
      ]
     },
     "metadata": {
      "needs_background": "light"
     },
     "output_type": "display_data"
    }
   ],
   "source": [
    "fig = plt.figure()\n",
    "ax = fig.add_subplot(111)\n",
    "plt.plot(np.arange(1, len(scores_all)+1), scores_all)\n",
    "plt.ylabel('Score')\n",
    "plt.xlabel('Episode #')\n",
    "plt.show()"
   ]
  },
  {
   "cell_type": "code",
   "execution_count": 19,
   "metadata": {},
   "outputs": [],
   "source": [
    "env.close()"
   ]
  },
  {
   "cell_type": "code",
   "execution_count": null,
   "metadata": {},
   "outputs": [],
   "source": []
  },
  {
   "cell_type": "code",
   "execution_count": null,
   "metadata": {},
   "outputs": [],
   "source": []
  },
  {
   "cell_type": "code",
   "execution_count": null,
   "metadata": {},
   "outputs": [],
   "source": []
  },
  {
   "cell_type": "code",
   "execution_count": null,
   "metadata": {},
   "outputs": [],
   "source": []
  },
  {
   "cell_type": "code",
   "execution_count": null,
   "metadata": {},
   "outputs": [],
   "source": []
  }
 ],
 "metadata": {
  "kernelspec": {
   "display_name": "Python 3",
   "language": "python",
   "name": "python3"
  },
  "language_info": {
   "codemirror_mode": {
    "name": "ipython",
    "version": 3
   },
   "file_extension": ".py",
   "mimetype": "text/x-python",
   "name": "python",
   "nbconvert_exporter": "python",
   "pygments_lexer": "ipython3",
   "version": "3.6.7"
  }
 },
 "nbformat": 4,
 "nbformat_minor": 2
}
